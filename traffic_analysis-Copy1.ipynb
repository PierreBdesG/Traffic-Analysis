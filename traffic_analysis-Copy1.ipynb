{
 "cells": [
  {
   "cell_type": "code",
   "execution_count": 1,
   "metadata": {},
   "outputs": [],
   "source": [
    "import trajdect as td\n",
    "import matplotlib.pyplot as plt\n",
    "import pandas as pd\n",
    "import sys\n",
    "\n",
    "import numpy as np"
   ]
  },
  {
   "cell_type": "markdown",
   "metadata": {},
   "source": [
    "# Retrieving trajectories\n"
   ]
  },
  {
   "cell_type": "code",
   "execution_count": 2,
   "metadata": {},
   "outputs": [],
   "source": [
    "df = pd.read_csv('/Users/pierrebrault/Desktop/trajectory_detector/DR_USA_Intersection_GL_df')\n",
    "df_dire = pd.read_csv('/Users/pierrebrault/Desktop/trajectory_detector/DR_USA_Intersection_GL_dire')\n",
    "df_equi = pd.read_csv('/Users/pierrebrault/Desktop/trajectory_detector/DR_USA_Intersection_GL_equivalence')"
   ]
  },
  {
   "cell_type": "code",
   "execution_count": 3,
   "metadata": {},
   "outputs": [
    {
     "data": {
      "text/html": [
       "<div>\n",
       "<style scoped>\n",
       "    .dataframe tbody tr th:only-of-type {\n",
       "        vertical-align: middle;\n",
       "    }\n",
       "\n",
       "    .dataframe tbody tr th {\n",
       "        vertical-align: top;\n",
       "    }\n",
       "\n",
       "    .dataframe thead th {\n",
       "        text-align: right;\n",
       "    }\n",
       "</style>\n",
       "<table border=\"1\" class=\"dataframe\">\n",
       "  <thead>\n",
       "    <tr style=\"text-align: right;\">\n",
       "      <th></th>\n",
       "      <th>track_id</th>\n",
       "      <th>frame_id</th>\n",
       "      <th>timestamp_ms</th>\n",
       "      <th>agent_type</th>\n",
       "      <th>x</th>\n",
       "      <th>y</th>\n",
       "      <th>vx</th>\n",
       "      <th>vy</th>\n",
       "      <th>psi_rad</th>\n",
       "      <th>length</th>\n",
       "      <th>width</th>\n",
       "      <th>csv</th>\n",
       "      <th>direction</th>\n",
       "      <th>a</th>\n",
       "      <th>v</th>\n",
       "    </tr>\n",
       "  </thead>\n",
       "  <tbody>\n",
       "    <tr>\n",
       "      <th>0</th>\n",
       "      <td>1.0</td>\n",
       "      <td>1.0</td>\n",
       "      <td>100.0</td>\n",
       "      <td>car</td>\n",
       "      <td>1019.991</td>\n",
       "      <td>1003.000</td>\n",
       "      <td>-3.167</td>\n",
       "      <td>-2.734</td>\n",
       "      <td>-2.429</td>\n",
       "      <td>5.62</td>\n",
       "      <td>2.2</td>\n",
       "      <td>0.0</td>\n",
       "      <td>-1</td>\n",
       "      <td>0.000000</td>\n",
       "      <td>4.183855</td>\n",
       "    </tr>\n",
       "    <tr>\n",
       "      <th>1</th>\n",
       "      <td>1.0</td>\n",
       "      <td>2.0</td>\n",
       "      <td>200.0</td>\n",
       "      <td>car</td>\n",
       "      <td>1019.660</td>\n",
       "      <td>1002.744</td>\n",
       "      <td>-3.214</td>\n",
       "      <td>-2.713</td>\n",
       "      <td>-2.440</td>\n",
       "      <td>5.62</td>\n",
       "      <td>2.2</td>\n",
       "      <td>0.0</td>\n",
       "      <td>-1</td>\n",
       "      <td>0.000221</td>\n",
       "      <td>4.205968</td>\n",
       "    </tr>\n",
       "    <tr>\n",
       "      <th>2</th>\n",
       "      <td>1.0</td>\n",
       "      <td>3.0</td>\n",
       "      <td>300.0</td>\n",
       "      <td>car</td>\n",
       "      <td>1019.324</td>\n",
       "      <td>1002.491</td>\n",
       "      <td>-3.279</td>\n",
       "      <td>-2.700</td>\n",
       "      <td>-2.453</td>\n",
       "      <td>5.62</td>\n",
       "      <td>2.2</td>\n",
       "      <td>0.0</td>\n",
       "      <td>-1</td>\n",
       "      <td>0.000416</td>\n",
       "      <td>4.247569</td>\n",
       "    </tr>\n",
       "    <tr>\n",
       "      <th>3</th>\n",
       "      <td>1.0</td>\n",
       "      <td>4.0</td>\n",
       "      <td>400.0</td>\n",
       "      <td>car</td>\n",
       "      <td>1018.979</td>\n",
       "      <td>1002.242</td>\n",
       "      <td>-3.363</td>\n",
       "      <td>-2.694</td>\n",
       "      <td>-2.466</td>\n",
       "      <td>5.62</td>\n",
       "      <td>2.2</td>\n",
       "      <td>0.0</td>\n",
       "      <td>-1</td>\n",
       "      <td>0.000614</td>\n",
       "      <td>4.308991</td>\n",
       "    </tr>\n",
       "    <tr>\n",
       "      <th>4</th>\n",
       "      <td>1.0</td>\n",
       "      <td>5.0</td>\n",
       "      <td>500.0</td>\n",
       "      <td>car</td>\n",
       "      <td>1018.625</td>\n",
       "      <td>1001.995</td>\n",
       "      <td>-3.465</td>\n",
       "      <td>-2.693</td>\n",
       "      <td>-2.481</td>\n",
       "      <td>5.62</td>\n",
       "      <td>2.2</td>\n",
       "      <td>0.0</td>\n",
       "      <td>-1</td>\n",
       "      <td>0.000795</td>\n",
       "      <td>4.388448</td>\n",
       "    </tr>\n",
       "  </tbody>\n",
       "</table>\n",
       "</div>"
      ],
      "text/plain": [
       "   track_id  frame_id  timestamp_ms agent_type         x         y     vx  \\\n",
       "0       1.0       1.0         100.0        car  1019.991  1003.000 -3.167   \n",
       "1       1.0       2.0         200.0        car  1019.660  1002.744 -3.214   \n",
       "2       1.0       3.0         300.0        car  1019.324  1002.491 -3.279   \n",
       "3       1.0       4.0         400.0        car  1018.979  1002.242 -3.363   \n",
       "4       1.0       5.0         500.0        car  1018.625  1001.995 -3.465   \n",
       "\n",
       "      vy  psi_rad  length  width  csv  direction         a         v  \n",
       "0 -2.734   -2.429    5.62    2.2  0.0         -1  0.000000  4.183855  \n",
       "1 -2.713   -2.440    5.62    2.2  0.0         -1  0.000221  4.205968  \n",
       "2 -2.700   -2.453    5.62    2.2  0.0         -1  0.000416  4.247569  \n",
       "3 -2.694   -2.466    5.62    2.2  0.0         -1  0.000614  4.308991  \n",
       "4 -2.693   -2.481    5.62    2.2  0.0         -1  0.000795  4.388448  "
      ]
     },
     "execution_count": 3,
     "metadata": {},
     "output_type": "execute_result"
    }
   ],
   "source": [
    "df.head()"
   ]
  },
  {
   "cell_type": "markdown",
   "metadata": {},
   "source": [
    "# Analysis of different trajectories in the same direction"
   ]
  },
  {
   "cell_type": "markdown",
   "metadata": {},
   "source": [
    "* let's focused on direction 7 because we see that a vehicle has an abnormal trajectory compared to other vehicles on the same direction.\n"
   ]
  },
  {
   "cell_type": "code",
   "execution_count": 4,
   "metadata": {},
   "outputs": [
    {
     "name": "stderr",
     "output_type": "stream",
     "text": [
      "No handles with labels found to put in legend.\n"
     ]
    },
    {
     "data": {
      "text/plain": [
       "<matplotlib.legend.Legend at 0x109909e90>"
      ]
     },
     "execution_count": 4,
     "metadata": {},
     "output_type": "execute_result"
    },
    {
     "data": {
      "image/png": "[encoded data removed]",
      "text/plain": [
       "<Figure size 720x360 with 1 Axes>"
      ]
     },
     "metadata": {
      "needs_background": "light"
     },
     "output_type": "display_data"
    }
   ],
   "source": [
    "direction = 7\n",
    "\n",
    "fig = plt.figure(figsize = (10, 5))\n",
    "ax = fig.add_subplot(1, 1, 1)\n",
    "df_ind = df[(df['direction'] == direction)]\n",
    "# ax.plot(df_dire['X'][ind], df_dire['Y'][ind], color=colors[ind], label ='traj:'+str(ind), linewidth = 2)\n",
    "ax.set_xlabel('x')\n",
    "ax.set_ylabel('y')\n",
    "ax.set_title('direction ' + str(direction))\n",
    "ax.grid(color='k', linestyle='--', linewidth=0.1)\n",
    "ax.scatter(df_ind['x'], df_ind['y'], alpha = 0.5, s=10)\n",
    "ax.legend()"
   ]
  },
  {
   "cell_type": "markdown",
   "metadata": {},
   "source": [
    "**let's discretize the direction into discr^2 rectangle and compute 3 matrices of dimensions (discr X discr):**\n",
    "    * mean_speed: contains the average speeds for each rectangle.\n",
    "    * mean_acc: contains the average accelerations for each rectangle.\n",
    "    * mean_vehic: contains the number of vehicles passing through each rectangle."
   ]
  },
  {
   "cell_type": "code",
   "execution_count": 5,
   "metadata": {},
   "outputs": [
    {
     "name": "stdout",
     "output_type": "stream",
     "text": [
      "loading 100.0%"
     ]
    }
   ],
   "source": [
    "\n",
    "discr = 50\n",
    "\n",
    "df_dir = df[df['direction'] == direction]\n",
    "\n",
    "\n",
    "min_x = df_dir.min(axis = 0)['x']\n",
    "max_x = df_dir.max(axis = 0)['x']\n",
    "dx = (max_x-min_x)/discr\n",
    "\n",
    "min_y = df_dir.min(axis = 0)['y']\n",
    "max_y = df_dir.max(axis = 0)['y']\n",
    "dy = (max_y-min_y)/discr\n",
    "\n",
    "data = []\n",
    "mean_speed = np.zeros((discr,discr))\n",
    "mean_acc = np.zeros((discr,discr))\n",
    "mean_vehic = np.zeros((discr,discr))\n",
    "\n",
    "\n",
    "for i in range(discr):\n",
    "    load = round((100*(i+1)/discr), 2)\n",
    "    sys.stdout.write('\\rloading ' + str(load) + '%')\n",
    "    sys.stdout.flush()\n",
    "    for j in range(discr):\n",
    "        df_dx_dy = df_dir[(df_dir['x'] >= min_x + i*dx) & (df_dir['x'] <= min_x + (i+1)*dx) \n",
    "                        & (df_dir['y'] >= min_y + j*dy) & (df_dir['y'] <= min_y + (j+1)*dy)]\n",
    "        v_mean = (df_dx_dy.mean(axis = 0)['v'])\n",
    "        a_mean = (df_dx_dy.mean(axis = 0)['a'])\n",
    "        nb_vehicle = len(df_dx_dy.track_id.unique())\n",
    "        data.append([min_x+i*dx, min_y+j*dy, v_mean, a_mean, nb_vehicle])\n",
    "        mean_speed[i, j] = v_mean\n",
    "        mean_acc[i, j] = a_mean\n",
    "        mean_vehic[i, j] = nb_vehicle\n",
    "\n",
    "mean_vehic[mean_vehic == 0] = np.nan\n",
    "\n",
    "        \n",
    "df_discr = pd.DataFrame(data, columns=['x', 'y', 'v_mean', 'a_mean', 'nb_vehicle'])\n",
    "df_discr = df_discr.dropna()\n",
    "df_discr = df_discr.reset_index(drop=True)\n",
    "\n"
   ]
  },
  {
   "cell_type": "markdown",
   "metadata": {},
   "source": [
    "**by ploting the matrices, we can see that the speed and acceleration decrease at the beginnig of the turn and increase at the end**"
   ]
  },
  {
   "cell_type": "code",
   "execution_count": 6,
   "metadata": {},
   "outputs": [
    {
     "data": {
      "text/plain": [
       "Text(0.5, 1.05, 'number of vehicle by rectangle')"
      ]
     },
     "execution_count": 6,
     "metadata": {},
     "output_type": "execute_result"
    },
    {
     "data": {
      "image/png": "[encoded data removed]",
      "text/plain": [
       "<Figure size 1440x720 with 3 Axes>"
      ]
     },
     "metadata": {
      "needs_background": "light"
     },
     "output_type": "display_data"
    }
   ],
   "source": [
    "fig = plt.figure(figsize = (20, 10))\n",
    "\n",
    "ax = fig.add_subplot(1, 3, 1)\n",
    "ax.matshow(mean_acc.T, cmap=plt.cm.Reds, origin=\"lower\")\n",
    "ax.set_xlabel('x')\n",
    "ax.set_ylabel('y')\n",
    "ax.set_title('avreage acceleration by rectangle', fontsize=18, )\n",
    "\n",
    "ax = fig.add_subplot(1, 3, 2)\n",
    "ax.matshow(mean_speed.T, cmap=plt.cm.Reds, origin=\"lower\")\n",
    "ax.set_xlabel('x')\n",
    "ax.set_ylabel('y')\n",
    "ax.set_title('average speed by rectangle', fontsize=18)\n",
    "\n",
    "ax = fig.add_subplot(1, 3, 3)\n",
    "ax.matshow(mean_vehic.T, cmap=plt.cm.Reds, origin=\"lower\")\n",
    "ax.set_xlabel('x')\n",
    "ax.set_ylabel('y')\n",
    "ax.set_title('number of vehicle by rectangle', fontsize=18)"
   ]
  },
  {
   "cell_type": "markdown",
   "metadata": {},
   "source": [
    "**We create df_spec_traj, the data frame containing the track_id of the vehicles which are the only ones to have passed through certain rectangle, and the number of times they have passed alone through rectangles.**"
   ]
  },
  {
   "cell_type": "code",
   "execution_count": 7,
   "metadata": {},
   "outputs": [
    {
     "name": "stdout",
     "output_type": "stream",
     "text": [
      "loading 100.0% "
     ]
    }
   ],
   "source": [
    "df_discr1 = df_discr[df_discr['nb_vehicle'] <= 1]\n",
    "\n",
    "track_ids_1_vehicle = []\n",
    "k = 0 \n",
    "for ind in df_discr1.index:\n",
    "    k += 1\n",
    "    load = round( (k/len(df_discr1))*100, 2)\n",
    "#     sys.stdout.write('\\rloading ' + str(load) + '%')\n",
    "#     sys.stdout.flush()\n",
    "    x_min = round(df_discr1['x'][ind],20)\n",
    "    x_max = round(df_discr1['x'][ind] + dx, 20)\n",
    "\n",
    "    y_min = round(df_discr1['y'][ind], 20)\n",
    "    y_max = round(df_discr1['y'][ind] + dy, 20)\n",
    "\n",
    "    sys.stdout.write('\\rloading ' + str(load) + '% ')\n",
    "    sys.stdout.flush()\n",
    "   \n",
    "    nb_vehicle = (df_dir[(df_dir['x']>x_min) & (df_dir['x']<x_max) & (df_dir['y']>y_min) & (df_dir['y']<y_max)]).track_id.unique()\n",
    "    \n",
    "    if (nb_vehicle):\n",
    "        track_ids_1_vehicle.append((int(nb_vehicle[0])))\n",
    "\n",
    "\n",
    "data = {x:track_ids_1_vehicle.count(x) for x in track_ids_1_vehicle}\n",
    "df_spec_traj = pd.DataFrame.from_dict(data, orient='index', columns=[ 'nb of alone rectangles']).sort_values(by='nb of alone rectangles', ascending=False)\n",
    "df_spec_traj = df_spec_traj.reset_index()\n",
    "df_spec_traj = df_spec_traj.rename(columns={\"index\": \"track_id\"})\n"
   ]
  },
  {
   "cell_type": "code",
   "execution_count": 8,
   "metadata": {},
   "outputs": [
    {
     "data": {
      "text/html": [
       "<div>\n",
       "<style scoped>\n",
       "    .dataframe tbody tr th:only-of-type {\n",
       "        vertical-align: middle;\n",
       "    }\n",
       "\n",
       "    .dataframe tbody tr th {\n",
       "        vertical-align: top;\n",
       "    }\n",
       "\n",
       "    .dataframe thead th {\n",
       "        text-align: right;\n",
       "    }\n",
       "</style>\n",
       "<table border=\"1\" class=\"dataframe\">\n",
       "  <thead>\n",
       "    <tr style=\"text-align: right;\">\n",
       "      <th></th>\n",
       "      <th>track_id</th>\n",
       "      <th>nb of alone rectangles</th>\n",
       "    </tr>\n",
       "  </thead>\n",
       "  <tbody>\n",
       "    <tr>\n",
       "      <th>0</th>\n",
       "      <td>10109</td>\n",
       "      <td>121</td>\n",
       "    </tr>\n",
       "    <tr>\n",
       "      <th>1</th>\n",
       "      <td>4126</td>\n",
       "      <td>21</td>\n",
       "    </tr>\n",
       "    <tr>\n",
       "      <th>2</th>\n",
       "      <td>1696</td>\n",
       "      <td>11</td>\n",
       "    </tr>\n",
       "    <tr>\n",
       "      <th>3</th>\n",
       "      <td>77</td>\n",
       "      <td>4</td>\n",
       "    </tr>\n",
       "    <tr>\n",
       "      <th>4</th>\n",
       "      <td>9501</td>\n",
       "      <td>4</td>\n",
       "    </tr>\n",
       "  </tbody>\n",
       "</table>\n",
       "</div>"
      ],
      "text/plain": [
       "   track_id  nb of alone rectangles\n",
       "0     10109                     121\n",
       "1      4126                      21\n",
       "2      1696                      11\n",
       "3        77                       4\n",
       "4      9501                       4"
      ]
     },
     "execution_count": 8,
     "metadata": {},
     "output_type": "execute_result"
    }
   ],
   "source": [
    "df_spec_traj.head()"
   ]
  },
  {
   "cell_type": "markdown",
   "metadata": {},
   "source": [
    "**we can see that track_id 10109 has a lot of rectangle where it's alone, it's certainly the abnormal trajectory**"
   ]
  },
  {
   "cell_type": "code",
   "execution_count": 9,
   "metadata": {},
   "outputs": [],
   "source": [
    "def get_original_id(track_id, df_equi):\n",
    "    original_id = int(df_equi[df_equi['new id'] == track_id]['original id'])\n",
    "    csv = int(df_equi[df_equi['new id'] == track_id]['csv'])\n",
    "    return csv, original_id"
   ]
  },
  {
   "cell_type": "markdown",
   "metadata": {},
   "source": [
    "**the get_oginal_id function allows us to find the original csv and track id of the vehicle**"
   ]
  },
  {
   "cell_type": "code",
   "execution_count": 10,
   "metadata": {},
   "outputs": [
    {
     "name": "stdout",
     "output_type": "stream",
     "text": [
      "csv: 21 ,  track_id: 70\n"
     ]
    }
   ],
   "source": [
    "track_id = 4126\n",
    "csv, original_id = get_original_id(track_id, df_equi)\n",
    "print('csv:', csv, ',  track_id:', original_id)"
   ]
  },
  {
   "cell_type": "markdown",
   "metadata": {},
   "source": [
    "**We can use the interaction data set tool to visualize the behaviour of this vehicle.**"
   ]
  },
  {
   "cell_type": "markdown",
   "metadata": {},
   "source": [
    "then we create df_low_acc and df_low_speed, data frames that detect when the acceleration and speed are below a certain threshold value, this threshold value depends on the average acceleration/speed of the rectangle on which the vehicle is located.\n",
    "\n",
    "df_low_acc contains:\n",
    "* the track_id of the vehicle.\n",
    "* the acceleration of the vehicle when it is below a certain threshold value.\n",
    "* the average acceleration on each series of rectangle where the track_id appears with a low acceleration.\n",
    "* the difference between the vehicle acceleration and the average acceleration.\n",
    "* the first moment when the acceleration is below the threshold value.\n",
    "* the last moment when the acceleration is below the threshold value\n",
    "\n",
    "df_low_speed contains the same parameters for speed.\n",
    "\n",
    "speed_rate and acc_rate vary the threshold values.\n",
    "the higher the speed_rate and acc_rate, the higher the diff_v and diff_acc will be. \n",
    "\n",
    "\n"
   ]
  },
  {
   "cell_type": "code",
   "execution_count": 11,
   "metadata": {},
   "outputs": [],
   "source": [
    "mean_speed = np.nan_to_num(mean_speed)\n",
    "mean_acc = np.nan_to_num(mean_acc)\n",
    "\n",
    "speed_rate = 0.2\n",
    "acc_rate = 0.5\n",
    "\n",
    "data_low_speed = []\n",
    "data_low_acc = []\n",
    "\n",
    "for ind in df_dir.index:\n",
    "    x = df_dir['x'][ind]\n",
    "    y = df_dir['y'][ind]\n",
    "    t = df_dir['timestamp_ms'][ind]\n",
    "    v = df_dir['v'][ind]\n",
    "    a = df_dir['a'][ind]\n",
    "    track_id = df_dir['track_id'][ind]\n",
    "    i = int((x-min_x)/dx)\n",
    "    j = int((y-min_y)/dy)\n",
    "    delta_acc = np.amax(mean_acc) - np.amin(mean_acc)\n",
    "    delta_speed = np.amax(mean_speed) - np.amin(mean_speed)\n",
    "\n",
    "    \n",
    "    if i != discr and j != discr:\n",
    "        v_mean = mean_speed[i, j]\n",
    "        a_mean = mean_acc[i, j]\n",
    "        inf_v = v_mean - speed_rate*delta_speed\n",
    "        inf_a = a_mean - acc_rate*delta_acc\n",
    "        if v<inf_v :\n",
    "            data_low_speed.append([track_id, v, v_mean, t])\n",
    "        if a<inf_a:\n",
    "            data_low_acc.append([track_id, a, a_mean, t])\n",
    "\n",
    "\n",
    "df_low_speed = pd.DataFrame(data_low_speed, columns=['track_id', 'v', 'v_mean', 't'])\n",
    "df_low_acc = pd.DataFrame(data_low_acc, columns=['track_id', 'a', 'a_mean', 't'])\n",
    "\n",
    "\n",
    "tracks_speed = df_low_speed['track_id'].unique()\n",
    "data = []\n",
    "for track in tracks_speed:\n",
    "    df_track = df_low_speed[df_low_speed['track_id'] == track]\n",
    "    t_min = df_track.min(axis = 0)['t']\n",
    "    t_max = df_track.max(axis = 0)['t']\n",
    "    v = df_track.mean(axis = 0)['v']\n",
    "    mean_v = df_track.mean(axis = 0)['v_mean']\n",
    "    data.append([track, v, mean_v, mean_v-v, t_min, t_max])\n",
    "df_low_speed = pd.DataFrame(data, columns=['track_id', 'v','v_mean', 'diff_v', 't_min', 't_max'])\n",
    "df_low_speed = df_low_speed.sort_values(by='diff_v', ascending=False)\n",
    "\n",
    "tracks_acc = df_low_acc['track_id'].unique()\n",
    "data = []\n",
    "for track in tracks_acc:\n",
    "    df_track = df_low_acc[df_low_acc['track_id'] == track]\n",
    "    t_min = df_track.min(axis = 0)['t']\n",
    "    t_max = df_track.max(axis = 0)['t']\n",
    "    a = df_track.mean(axis = 0)['a']\n",
    "    mean_a = df_track.mean(axis = 0)['a_mean']\n",
    "    data.append([track, a, mean_a, mean_a-a, t_min, t_max])\n",
    "df_low_acc = pd.DataFrame(data, columns=['track_id', 'a', 'a_mean', 'diff_a', 't_min', 't_max'])\n",
    "df_low_acc = df_low_acc.sort_values(by='diff_a', ascending=False)\n"
   ]
  },
  {
   "cell_type": "code",
   "execution_count": 12,
   "metadata": {},
   "outputs": [
    {
     "data": {
      "text/html": [
       "<div>\n",
       "<style scoped>\n",
       "    .dataframe tbody tr th:only-of-type {\n",
       "        vertical-align: middle;\n",
       "    }\n",
       "\n",
       "    .dataframe tbody tr th {\n",
       "        vertical-align: top;\n",
       "    }\n",
       "\n",
       "    .dataframe thead th {\n",
       "        text-align: right;\n",
       "    }\n",
       "</style>\n",
       "<table border=\"1\" class=\"dataframe\">\n",
       "  <thead>\n",
       "    <tr style=\"text-align: right;\">\n",
       "      <th></th>\n",
       "      <th>track_id</th>\n",
       "      <th>a</th>\n",
       "      <th>a_mean</th>\n",
       "      <th>diff_a</th>\n",
       "      <th>t_min</th>\n",
       "      <th>t_max</th>\n",
       "    </tr>\n",
       "  </thead>\n",
       "  <tbody>\n",
       "    <tr>\n",
       "      <th>1</th>\n",
       "      <td>649.0</td>\n",
       "      <td>-0.003944</td>\n",
       "      <td>-0.000337</td>\n",
       "      <td>0.003606</td>\n",
       "      <td>186500.0</td>\n",
       "      <td>188100.0</td>\n",
       "    </tr>\n",
       "    <tr>\n",
       "      <th>27</th>\n",
       "      <td>6268.0</td>\n",
       "      <td>-0.003299</td>\n",
       "      <td>-0.000206</td>\n",
       "      <td>0.003093</td>\n",
       "      <td>146000.0</td>\n",
       "      <td>147400.0</td>\n",
       "    </tr>\n",
       "    <tr>\n",
       "      <th>10</th>\n",
       "      <td>2902.0</td>\n",
       "      <td>-0.003440</td>\n",
       "      <td>-0.000491</td>\n",
       "      <td>0.002949</td>\n",
       "      <td>2100.0</td>\n",
       "      <td>3400.0</td>\n",
       "    </tr>\n",
       "    <tr>\n",
       "      <th>8</th>\n",
       "      <td>2479.0</td>\n",
       "      <td>-0.003108</td>\n",
       "      <td>-0.000222</td>\n",
       "      <td>0.002886</td>\n",
       "      <td>193200.0</td>\n",
       "      <td>194300.0</td>\n",
       "    </tr>\n",
       "    <tr>\n",
       "      <th>6</th>\n",
       "      <td>1696.0</td>\n",
       "      <td>-0.001885</td>\n",
       "      <td>0.000911</td>\n",
       "      <td>0.002795</td>\n",
       "      <td>92900.0</td>\n",
       "      <td>94000.0</td>\n",
       "    </tr>\n",
       "  </tbody>\n",
       "</table>\n",
       "</div>"
      ],
      "text/plain": [
       "    track_id         a    a_mean    diff_a     t_min     t_max\n",
       "1      649.0 -0.003944 -0.000337  0.003606  186500.0  188100.0\n",
       "27    6268.0 -0.003299 -0.000206  0.003093  146000.0  147400.0\n",
       "10    2902.0 -0.003440 -0.000491  0.002949    2100.0    3400.0\n",
       "8     2479.0 -0.003108 -0.000222  0.002886  193200.0  194300.0\n",
       "6     1696.0 -0.001885  0.000911  0.002795   92900.0   94000.0"
      ]
     },
     "execution_count": 12,
     "metadata": {},
     "output_type": "execute_result"
    }
   ],
   "source": [
    "df_low_acc.head()"
   ]
  },
  {
   "cell_type": "code",
   "execution_count": 13,
   "metadata": {},
   "outputs": [
    {
     "data": {
      "text/html": [
       "<div>\n",
       "<style scoped>\n",
       "    .dataframe tbody tr th:only-of-type {\n",
       "        vertical-align: middle;\n",
       "    }\n",
       "\n",
       "    .dataframe tbody tr th {\n",
       "        vertical-align: top;\n",
       "    }\n",
       "\n",
       "    .dataframe thead th {\n",
       "        text-align: right;\n",
       "    }\n",
       "</style>\n",
       "<table border=\"1\" class=\"dataframe\">\n",
       "  <thead>\n",
       "    <tr style=\"text-align: right;\">\n",
       "      <th></th>\n",
       "      <th>track_id</th>\n",
       "      <th>v</th>\n",
       "      <th>v_mean</th>\n",
       "      <th>diff_v</th>\n",
       "      <th>t_min</th>\n",
       "      <th>t_max</th>\n",
       "    </tr>\n",
       "  </thead>\n",
       "  <tbody>\n",
       "    <tr>\n",
       "      <th>10</th>\n",
       "      <td>1484.0</td>\n",
       "      <td>0.692540</td>\n",
       "      <td>3.827582</td>\n",
       "      <td>3.135042</td>\n",
       "      <td>74500.0</td>\n",
       "      <td>80200.0</td>\n",
       "    </tr>\n",
       "    <tr>\n",
       "      <th>6</th>\n",
       "      <td>1315.0</td>\n",
       "      <td>0.548963</td>\n",
       "      <td>3.682761</td>\n",
       "      <td>3.133798</td>\n",
       "      <td>131600.0</td>\n",
       "      <td>196000.0</td>\n",
       "    </tr>\n",
       "    <tr>\n",
       "      <th>37</th>\n",
       "      <td>9413.0</td>\n",
       "      <td>0.972087</td>\n",
       "      <td>3.959867</td>\n",
       "      <td>2.987779</td>\n",
       "      <td>131900.0</td>\n",
       "      <td>143700.0</td>\n",
       "    </tr>\n",
       "    <tr>\n",
       "      <th>39</th>\n",
       "      <td>9470.0</td>\n",
       "      <td>0.427678</td>\n",
       "      <td>3.393184</td>\n",
       "      <td>2.965506</td>\n",
       "      <td>188500.0</td>\n",
       "      <td>192800.0</td>\n",
       "    </tr>\n",
       "    <tr>\n",
       "      <th>38</th>\n",
       "      <td>9458.0</td>\n",
       "      <td>0.349895</td>\n",
       "      <td>2.976764</td>\n",
       "      <td>2.626869</td>\n",
       "      <td>184900.0</td>\n",
       "      <td>190700.0</td>\n",
       "    </tr>\n",
       "  </tbody>\n",
       "</table>\n",
       "</div>"
      ],
      "text/plain": [
       "    track_id         v    v_mean    diff_v     t_min     t_max\n",
       "10    1484.0  0.692540  3.827582  3.135042   74500.0   80200.0\n",
       "6     1315.0  0.548963  3.682761  3.133798  131600.0  196000.0\n",
       "37    9413.0  0.972087  3.959867  2.987779  131900.0  143700.0\n",
       "39    9470.0  0.427678  3.393184  2.965506  188500.0  192800.0\n",
       "38    9458.0  0.349895  2.976764  2.626869  184900.0  190700.0"
      ]
     },
     "execution_count": 13,
     "metadata": {},
     "output_type": "execute_result"
    }
   ],
   "source": [
    "df_low_speed.head()"
   ]
  },
  {
   "cell_type": "code",
   "execution_count": 14,
   "metadata": {},
   "outputs": [
    {
     "name": "stdout",
     "output_type": "stream",
     "text": [
      "csv: 7 ,  track_id: 61\n"
     ]
    }
   ],
   "source": [
    "track_id = 1484.0\n",
    "csv, original_id = get_original_id(track_id, df_equi)\n",
    "print('csv:', csv, ',  track_id:', original_id)"
   ]
  },
  {
   "cell_type": "markdown",
   "metadata": {},
   "source": [
    "**here we can also use the interaction data set tool to visualize the behaviour of these vehicles betwin t_min and t_max.**"
   ]
  },
  {
   "cell_type": "code",
   "execution_count": null,
   "metadata": {},
   "outputs": [],
   "source": []
  }
 ],
 "metadata": {
  "kernelspec": {
   "display_name": "Python 3",
   "language": "python",
   "name": "python3"
  },
  "language_info": {
   "codemirror_mode": {
    "name": "ipython",
    "version": 3
   },
   "file_extension": ".py",
   "mimetype": "text/x-python",
   "name": "python",
   "nbconvert_exporter": "python",
   "pygments_lexer": "ipython3",
   "version": "3.7.6"
  }
 },
 "nbformat": 4,
 "nbformat_minor": 4
}
